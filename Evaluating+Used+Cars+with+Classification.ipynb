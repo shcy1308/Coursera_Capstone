{
 "cells": [
  {
   "cell_type": "markdown",
   "metadata": {},
   "source": [
    "### Evaluating Used Cars with Classification\n",
    "\n",
    "#### Introduction\n",
    "In recent years, used car market is getting larger and larger. Many people begin purchasing used cars instead of new cars, since used cars are always cheaper than new cars, and a lot of used cars really have good reliability. However, there are still a bunch of defective used cars in market. For example, my one friend bought a 2000 Toyota. One day, when she was driving, suddenly, her engine broke down. I am also a used-car victim, I purchased a 2001 Nissan six years ago, after just one week, I could not start up my car anymore. Defective used cars not only hurt customers, but also ruin sellers' reputation, so evaluating used cars is very important.\n",
    "\n",
    "#### Data Description\n",
    "Our data includes 1728 used cars. Our variables are: 1). Buying price, 2). Price of maintenance, 3). Number of doors, 4). Capacity in terms of persons to carry, 5).The size of trunk, and 6). Estimated safety of the car. Both buying price and price of maintenance are categorized into four levels: very high, high, medium, and low. Number of doors includes 2, 3, 4, and 5-more. Capacity in terms of persons to carry has three levels: 2, 4, and more. The size of trunk is categorized into small, medium, and big.  Estimated safety of the car is low, medium, and high. Our classifications for the used cars are unacceptable, acceptable, good, and very good. Our dataset can be downloaded from https://archive.ics.uci.edu/ml/datasets/Car+Evaluation "
   ]
  },
  {
   "cell_type": "code",
   "execution_count": 1,
   "metadata": {},
   "outputs": [
    {
     "data": {
      "text/html": [
       "<div>\n",
       "<style scoped>\n",
       "    .dataframe tbody tr th:only-of-type {\n",
       "        vertical-align: middle;\n",
       "    }\n",
       "\n",
       "    .dataframe tbody tr th {\n",
       "        vertical-align: top;\n",
       "    }\n",
       "\n",
       "    .dataframe thead th {\n",
       "        text-align: right;\n",
       "    }\n",
       "</style>\n",
       "<table border=\"1\" class=\"dataframe\">\n",
       "  <thead>\n",
       "    <tr style=\"text-align: right;\">\n",
       "      <th></th>\n",
       "      <th>Buying</th>\n",
       "      <th>Maint</th>\n",
       "      <th>Doors</th>\n",
       "      <th>Persons</th>\n",
       "      <th>Trunk</th>\n",
       "      <th>Safty</th>\n",
       "      <th>Evaluation</th>\n",
       "    </tr>\n",
       "  </thead>\n",
       "  <tbody>\n",
       "    <tr>\n",
       "      <th>0</th>\n",
       "      <td>vhigh</td>\n",
       "      <td>vhigh</td>\n",
       "      <td>2</td>\n",
       "      <td>2</td>\n",
       "      <td>small</td>\n",
       "      <td>low</td>\n",
       "      <td>unacc</td>\n",
       "    </tr>\n",
       "    <tr>\n",
       "      <th>1</th>\n",
       "      <td>vhigh</td>\n",
       "      <td>vhigh</td>\n",
       "      <td>2</td>\n",
       "      <td>2</td>\n",
       "      <td>small</td>\n",
       "      <td>med</td>\n",
       "      <td>unacc</td>\n",
       "    </tr>\n",
       "    <tr>\n",
       "      <th>2</th>\n",
       "      <td>vhigh</td>\n",
       "      <td>vhigh</td>\n",
       "      <td>2</td>\n",
       "      <td>2</td>\n",
       "      <td>small</td>\n",
       "      <td>high</td>\n",
       "      <td>unacc</td>\n",
       "    </tr>\n",
       "    <tr>\n",
       "      <th>3</th>\n",
       "      <td>vhigh</td>\n",
       "      <td>vhigh</td>\n",
       "      <td>2</td>\n",
       "      <td>2</td>\n",
       "      <td>med</td>\n",
       "      <td>low</td>\n",
       "      <td>unacc</td>\n",
       "    </tr>\n",
       "    <tr>\n",
       "      <th>4</th>\n",
       "      <td>vhigh</td>\n",
       "      <td>vhigh</td>\n",
       "      <td>2</td>\n",
       "      <td>2</td>\n",
       "      <td>med</td>\n",
       "      <td>med</td>\n",
       "      <td>unacc</td>\n",
       "    </tr>\n",
       "  </tbody>\n",
       "</table>\n",
       "</div>"
      ],
      "text/plain": [
       "  Buying  Maint Doors Persons  Trunk Safty Evaluation\n",
       "0  vhigh  vhigh     2       2  small   low      unacc\n",
       "1  vhigh  vhigh     2       2  small   med      unacc\n",
       "2  vhigh  vhigh     2       2  small  high      unacc\n",
       "3  vhigh  vhigh     2       2    med   low      unacc\n",
       "4  vhigh  vhigh     2       2    med   med      unacc"
      ]
     },
     "execution_count": 1,
     "metadata": {},
     "output_type": "execute_result"
    }
   ],
   "source": [
    "import pandas as pd\n",
    "car = pd.read_csv('C:\\Atop Materials\\car evaluation.csv', header = 0)\n",
    "car.head()"
   ]
  },
  {
   "cell_type": "code",
   "execution_count": 36,
   "metadata": {
    "collapsed": true
   },
   "outputs": [],
   "source": [
    "def tonum (x):\n",
    "    if x == \"vhigh\":\n",
    "        return 4\n",
    "    if x == \"high\":\n",
    "        return 3\n",
    "    if x == \"med\":\n",
    "        return 2\n",
    "    if x == \"low\":\n",
    "        return 1\n",
    "    if x == \"5more\":\n",
    "        return 5\n",
    "    if x == \"4\":\n",
    "        return 4\n",
    "    if x == \"3\":\n",
    "        return 3\n",
    "    if x == \"2\":\n",
    "        return 2\n",
    "    if x == \"more\":\n",
    "        return 5\n",
    "    if x == \"small\":\n",
    "        return 1\n",
    "    if x == \"big\":\n",
    "        return 3\n",
    "    if x == \"unacc\":\n",
    "        return 1\n",
    "    if x == \"acc\":\n",
    "        return 2\n",
    "    if x == \"good\":\n",
    "        return 3\n",
    "    if x == \"vgood\":\n",
    "        return 4\n",
    "    \n",
    "car[\"buying\"] = car[\"Buying\"].apply(tonum)\n",
    "car[\"maint\"] = car[\"Maint\"].apply(tonum)\n",
    "car[\"doors\"] = car[\"Doors\"].apply(tonum)\n",
    "car[\"persons\"] = car[\"Persons\"].apply(tonum)\n",
    "car[\"trunk\"] = car[\"Trunk\"].apply(tonum)\n",
    "car[\"safty\"] = car[\"Safty\"].apply(tonum)\n",
    "car[\"evaluation\"] = car[\"Evaluation\"].apply(tonum)\n",
    "car = car[[\"buying\", \"maint\", \"doors\", \"persons\", \"trunk\", \"safty\", \"evaluation\"]]"
   ]
  },
  {
   "cell_type": "markdown",
   "metadata": {},
   "source": [
    "#### Methodology\n",
    "In this section, we will devide our data into training set and test set, and then we will use support vector machine, k-nearest neighbors, and decision tree to do classification."
   ]
  },
  {
   "cell_type": "code",
   "execution_count": 48,
   "metadata": {},
   "outputs": [
    {
     "name": "stdout",
     "output_type": "stream",
     "text": [
      "Accuracy of SVM is: 0.8651\n",
      "Accuracy of KNN is: 0.9518\n",
      "Accuracy of Decision Tree is: 0.8555\n"
     ]
    }
   ],
   "source": [
    "import numpy as np\n",
    "from sklearn.cross_validation import train_test_split\n",
    "from sklearn import svm\n",
    "from sklearn.neighbors import KNeighborsClassifier\n",
    "from sklearn.tree import DecisionTreeClassifier\n",
    "\n",
    "x = car[[\"buying\", \"maint\", \"doors\", \"persons\", \"trunk\", \"safty\"]]\n",
    "y = car[\"evaluation\"]\n",
    "x_train, x_test, y_train, y_test = train_test_split(x, y, test_size = 0.3, random_state = 1)\n",
    "\n",
    "\n",
    "# svm\n",
    "clf1 = svm.SVC(kernel = 'linear')\n",
    "clf1.fit(x_train, y_train)\n",
    "yhat1 = clf1.predict(x_test)\n",
    "print(\"Accuracy of SVM is:\", np.round(np.mean(y_test == yhat1), 4))\n",
    "\n",
    "# KNN\n",
    "k = 5\n",
    "clf2 = KNeighborsClassifier(n_neighbors = k)\n",
    "clf2.fit(x_train, y_train)\n",
    "yhat2 = clf2.predict(x_test)\n",
    "print(\"Accuracy of KNN is:\", np.round(np.mean(y_test == yhat2), 4))\n",
    "\n",
    "# Decision Tree\n",
    "clf3 = DecisionTreeClassifier(criterion = 'entropy', max_depth = 4)\n",
    "clf3.fit(x_train, y_train)\n",
    "yhat3 = clf3.predict(x_test)\n",
    "print(\"Accuracy of Decision Tree is:\", np.round(np.mean(y_test == yhat3), 4))\n"
   ]
  },
  {
   "cell_type": "markdown",
   "metadata": {},
   "source": [
    "#### Result\n",
    "From methodology section, we see that KNN with k = 5 has the highest accuracy."
   ]
  },
  {
   "cell_type": "markdown",
   "metadata": {},
   "source": [
    "#### Discussion\n",
    "In this report, we used SVM, KNN, and Decision Tree to do classification analysis for used cars, and we found that KNN has the highest accuracy. However, this time, we just used very simple versions of these three classifiers, some advanced versions may improve the accuracies for SVM, and Decision Tree, like Twin Bondary SVM."
   ]
  },
  {
   "cell_type": "markdown",
   "metadata": {},
   "source": [
    "#### Conclusion\n",
    "We can predict the quality of used cars with high accuracy using classifiers."
   ]
  }
 ],
 "metadata": {
  "kernelspec": {
   "display_name": "Python 3",
   "language": "python",
   "name": "python3"
  },
  "language_info": {
   "codemirror_mode": {
    "name": "ipython",
    "version": 3
   },
   "file_extension": ".py",
   "mimetype": "text/x-python",
   "name": "python",
   "nbconvert_exporter": "python",
   "pygments_lexer": "ipython3",
   "version": "3.6.3"
  }
 },
 "nbformat": 4,
 "nbformat_minor": 2
}
